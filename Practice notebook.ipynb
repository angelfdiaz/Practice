{
 "cells": [
  {
   "cell_type": "code",
   "execution_count": 1,
   "id": "c3c2b286",
   "metadata": {},
   "outputs": [
    {
     "name": "stdout",
     "output_type": "stream",
     "text": [
      "hello world!\n"
     ]
    }
   ],
   "source": [
    "print(\"hello world!\")"
   ]
  },
  {
   "cell_type": "code",
   "execution_count": 2,
   "id": "cf1cf31a",
   "metadata": {},
   "outputs": [],
   "source": [
    "# how do I create a markdown window\n"
   ]
  },
  {
   "cell_type": "code",
   "execution_count": 3,
   "id": "ac546e89",
   "metadata": {},
   "outputs": [],
   "source": [
    "# my goal is to create a jupyter notebook that solves the IBM problem set."
   ]
  },
  {
   "cell_type": "code",
   "execution_count": null,
   "id": "c5f3335c",
   "metadata": {},
   "outputs": [],
   "source": []
  }
 ],
 "metadata": {
  "kernelspec": {
   "display_name": "Python 3 (ipykernel)",
   "language": "python",
   "name": "python3"
  },
  "language_info": {
   "codemirror_mode": {
    "name": "ipython",
    "version": 3
   },
   "file_extension": ".py",
   "mimetype": "text/x-python",
   "name": "python",
   "nbconvert_exporter": "python",
   "pygments_lexer": "ipython3",
   "version": "3.9.7"
  }
 },
 "nbformat": 4,
 "nbformat_minor": 5
}
